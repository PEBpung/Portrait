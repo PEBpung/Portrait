{
 "cells": [
  {
   "cell_type": "code",
   "execution_count": 8,
   "metadata": {
    "colab": {
     "base_uri": "https://localhost:8080/",
     "height": 81
    },
    "colab_type": "code",
    "id": "jVLmkAtHQg1z",
    "outputId": "f2aa91a1-d400-477e-a9e9-6877261a0b42"
   },
   "outputs": [],
   "source": [
    "# Import Libraries\n",
    "import os\n",
    "import numpy as np\n",
    "import cv2\n",
    "from random import randint\n",
    "import pickle\n",
    "import matplotlib.pyplot as plt\n",
    "from keras import backend as K\n",
    "import tensorflow as tf\n",
    "from keras.models import load_model\n",
    "\n",
    "%matplotlib inline"
   ]
  },
  {
   "cell_type": "code",
   "execution_count": 9,
   "metadata": {
    "colab": {},
    "colab_type": "code",
    "id": "JVNSa8nwQ9ej"
   },
   "outputs": [],
   "source": [
    "path=os.getenv('HOME') + '/repo/Portrait/data/Celeb/data_100/'"
   ]
  },
  {
   "cell_type": "markdown",
   "metadata": {
    "colab_type": "text",
    "id": "UdV3KqR7qQbh"
   },
   "source": [
    "Dataset Credits: https://github.com/switchablenorms/CelebAMask-HQ"
   ]
  },
  {
   "cell_type": "code",
   "execution_count": 10,
   "metadata": {
    "colab": {},
    "colab_type": "code",
    "id": "mZshwIW2F90C"
   },
   "outputs": [],
   "source": [
    "class convert_images:\n",
    "    def read_images(image_path, mask_path, image_size=(512,512)):\n",
    "        image_dict = {}\n",
    "        mask_dict = {}\n",
    "        for img in os.listdir(image_path):\n",
    "            try:\n",
    "              image_dict[img] = cv2.resize(cv2.imread(os.path.join(image_path,img)),(512,512))\n",
    "            except:\n",
    "              continue\n",
    "            hair = ['{0:05}'.format(int(img.split('.',1)[0])) + '_hair']\n",
    "            r_ear = ['{0:05}'.format(int(img.split('.',1)[0])) + '_r_ear']\n",
    "            l_ear = ['{0:05}'.format(int(img.split('.',1)[0])) + '_l_ear']\n",
    "            nose = ['{0:05}'.format(int(img.split('.',1)[0])) + '_nose']\n",
    "            skin = ['{0:05}'.format(int(img.split('.',1)[0])) + '_skin']\n",
    "            cloth = ['{0:05}'.format(int(img.split('.',1)[0])) + '_cloth']\n",
    "            neck = ['{0:05}'.format(int(img.split('.',1)[0])) + '_neck']\n",
    "            hair_image = cv2.imread(os.path.join(mask_path,hair[0]+'.png'))\n",
    "            if not os.path.exists(os.path.join(mask_path,hair[0]+'.png')):\n",
    "                hair_image = np.zeros(image_dict[img].shape)\n",
    "            r_ear_image = cv2.imread(os.path.join(mask_path,r_ear[0]+'.png'))\n",
    "            if not os.path.exists(os.path.join(mask_path,r_ear[0]+'.png')):\n",
    "                r_ear_image = np.zeros(image_dict[img].shape)\n",
    "            l_ear_image = cv2.imread(os.path.join(mask_path,l_ear[0]+'.png'))\n",
    "            if not os.path.exists(os.path.join(mask_path,l_ear[0]+'.png')):\n",
    "                l_ear_image = np.zeros(image_dict[img].shape)\n",
    "            nose_image = cv2.imread(os.path.join(mask_path,nose[0]+'.png'))\n",
    "            if not os.path.exists(os.path.join(mask_path,nose[0]+'.png')):\n",
    "                nose_image = np.zeros(image_dict[img].shape)\n",
    "            skin_image = cv2.imread(os.path.join(mask_path,skin[0]+'.png'))\n",
    "            if not os.path.exists(os.path.join(mask_path,skin[0]+'.png')):\n",
    "                skin_image = np.zeros(image_dict[img].shape)\n",
    "            cloth_image = cv2.imread(os.path.join(mask_path,cloth[0]+'.png'))\n",
    "            if not os.path.exists(os.path.join(mask_path,cloth[0]+'.png')):\n",
    "                cloth_image = np.zeros(image_dict[img].shape)\n",
    "            neck_image = cv2.imread(os.path.join(mask_path,neck[0]+'.png'))\n",
    "            if not os.path.exists(os.path.join(mask_path,neck[0]+'.png')):\n",
    "                neck_image = np.zeros(image_dict[img].shape)\n",
    "            mask_dict[img] = hair_image+r_ear_image+l_ear_image+nose_image+skin_image+cloth_image+neck_image\n",
    "        return (image_dict, mask_dict)\n",
    "    def to_npy(image_dict,mask_dict, is_test=False):\n",
    "        image = []\n",
    "        mask = []\n",
    "        for img, msk in zip(image_dict.values(), mask_dict.values()):\n",
    "          image.append(img)\n",
    "          mask.append(msk.astype('uint16'))\n",
    "        image = np.array(image)\n",
    "        mask = np.array(mask)\n",
    "\n",
    "        mask = mask[:,:,:,1]\n",
    "        mask = np.expand_dims(mask, axis=-1)\n",
    "        if is_test is False:\n",
    "            print('train용 .npy files이 저장되었습니다.')\n",
    "            np.save(path+'Images',image)\n",
    "            np.save(path+'Masks',mask)\n",
    "        else:\n",
    "            print('test용 .npy files이 저장되었습니다.')\n",
    "            np.save(path+'Test_Images',image)\n",
    "            np.save(path+'Test_Masks',mask)"
   ]
  },
  {
   "cell_type": "code",
   "execution_count": 11,
   "metadata": {
    "colab": {},
    "colab_type": "code",
    "id": "KrCb1SmAGB_S"
   },
   "outputs": [],
   "source": [
    "# Give the path for the Images and masks\n",
    "images_path = os.path.join(path,\"CelebA-HQ-img/\")\n",
    "mask_path = os.path.join(path,\"CelebAMask-HQ-mask-anno/0\")"
   ]
  },
  {
   "cell_type": "code",
   "execution_count": 12,
   "metadata": {},
   "outputs": [
    {
     "name": "stdout",
     "output_type": "stream",
     "text": [
      "train용 .npy files이 저장되었습니다.\n"
     ]
    }
   ],
   "source": [
    "# Save the images to .npy files\n",
    "image_dict, mask_dict = convert_images.read_images(images_path, mask_path)\n",
    "convert_images.to_npy(image_dict, mask_dict, is_test=False)"
   ]
  },
  {
   "cell_type": "code",
   "execution_count": 13,
   "metadata": {
    "colab": {},
    "colab_type": "code",
    "id": "KrCb1SmAGB_S"
   },
   "outputs": [],
   "source": [
    "# Give the path for the Images and masks\n",
    "test_images_path = os.path.join(path,\"Test/image\")\n",
    "test_mask_path = os.path.join(path,\"Test/mask\")"
   ]
  },
  {
   "cell_type": "code",
   "execution_count": 14,
   "metadata": {},
   "outputs": [
    {
     "name": "stdout",
     "output_type": "stream",
     "text": [
      "test용 .npy files이 저장되었습니다.\n"
     ]
    }
   ],
   "source": [
    "# Save the images to .npy files\n",
    "image_dict, mask_dict = convert_images.read_images(test_images_path, test_mask_path)\n",
    "convert_images.to_npy(image_dict, mask_dict, is_test=True)"
   ]
  }
 ],
 "metadata": {
  "kernelspec": {
   "display_name": "aiffel",
   "language": "python",
   "name": "aiffel"
  },
  "language_info": {
   "codemirror_mode": {
    "name": "ipython",
    "version": 3
   },
   "file_extension": ".py",
   "mimetype": "text/x-python",
   "name": "python",
   "nbconvert_exporter": "python",
   "pygments_lexer": "ipython3",
   "version": "3.7.7"
  }
 },
 "nbformat": 4,
 "nbformat_minor": 4
}
